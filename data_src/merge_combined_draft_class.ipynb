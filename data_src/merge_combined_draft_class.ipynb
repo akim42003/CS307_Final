{
 "cells": [
  {
   "cell_type": "markdown",
   "metadata": {},
   "source": [
    "## Add RAPTOR WAR to Merged Draft Class CSV"
   ]
  },
  {
   "cell_type": "code",
   "execution_count": 1,
   "metadata": {},
   "outputs": [],
   "source": [
    "import pandas as pd\n",
    "\n",
    "draft_class_df = pd.read_csv('data/combined_draft_class_07_to_21_FINAL.csv')\n",
    "max_player_ws_df = pd.read_csv('data/max_ws_by_player.csv')"
   ]
  },
  {
   "cell_type": "code",
   "execution_count": 2,
   "metadata": {},
   "outputs": [
    {
     "name": "stdout",
     "output_type": "stream",
     "text": [
      "                Player  PTS Draft Team  Round  Pick  Draft Year  \\\n",
      "0           Luka Garza  747        DET      2    52        2021   \n",
      "1        Corey Kispert  595        WAS      1    15        2021   \n",
      "2          Ayo Dosunmu  564        CHI      2    38        2021   \n",
      "3      Cade Cunningham  544        DET      1     1        2021   \n",
      "4          Evan Mobley  540        CLE      1     3        2021   \n",
      "..                 ...  ...        ...    ...   ...         ...   \n",
      "652     Furkan Korkmaz   51        PHI      1    26        2016   \n",
      "653    Nemanja Nedović   98        PHO      1    30        2013   \n",
      "654      Mario Hezonja  146        ORL      1     5        2015   \n",
      "655       Clint Capela  296        HOU      1    25        2014   \n",
      "656  Bogdan Bogdanović  340        PHO      1    27        2014   \n",
      "\n",
      "           Draft College   Season                 Team  International Flag  \\\n",
      "0                   Iowa  2020-21                 Iowa                   0   \n",
      "1                Gonzaga  2020-21              Gonzaga                   0   \n",
      "2               Illinois  2020-21             Illinois                   0   \n",
      "3         Oklahoma State  2020-21       Oklahoma State                   0   \n",
      "4    Southern California  2020-21  Southern California                   0   \n",
      "..                   ...      ...                  ...                 ...   \n",
      "652          Andolu Efes  2015-16          Andolu Efes                   1   \n",
      "653                Rytas  2012-13                Rytas                   1   \n",
      "654                Barca  2014-15                Barca                   1   \n",
      "655                 Élan  2013-14                 Élan                   1   \n",
      "656             Partizan  2013-14             Partizan                   1   \n",
      "\n",
      "     ...  PF    FG%    2P%    3P%    FT%    TS%   eFG%  Pos  Class    WS  \n",
      "0    ...  70  0.553  0.581  0.440  0.709  0.620  0.596    F     SR   0.8  \n",
      "1    ...  54  0.529  0.628  0.440  0.878  0.674  0.644    F     SR   2.3  \n",
      "2    ...  58  0.488  0.511  0.390  0.783  0.566  0.526    G     JR   3.0  \n",
      "3    ...  67  0.438  0.461  0.400  0.846  0.574  0.515    G     FR  -0.5  \n",
      "4    ...  58  0.578  0.615  0.300  0.694  0.624  0.595    F     FR   5.2  \n",
      "..   ...  ..    ...    ...    ...    ...    ...    ...  ...    ...   ...  \n",
      "652  ...  27  0.391  0.350  0.423  0.571    NaN    NaN    G    NaN   2.8  \n",
      "653  ...  19  0.367  0.381  0.343  0.700    NaN    NaN    G    NaN  -0.4  \n",
      "654  ...  56  0.452  0.574  0.377  0.833    NaN    NaN    F    NaN   2.3  \n",
      "655  ...  66  0.665  0.668  0.000  0.575    NaN    NaN    F    NaN  10.8  \n",
      "656  ...  60  0.401  0.426  0.370  0.754    NaN    NaN    G    NaN   3.9  \n",
      "\n",
      "[657 rows x 38 columns]\n"
     ]
    }
   ],
   "source": [
    "# Add WAR to the draft class dataframe by combining on player name\n",
    "\n",
    "merged_df = pd.merge(\n",
    "    draft_class_df,\n",
    "    max_player_ws_df[['Player', 'WS']],\n",
    "    on='Player',\n",
    "    how='inner'\n",
    ")\n",
    "\n",
    "print(merged_df)"
   ]
  },
  {
   "cell_type": "code",
   "execution_count": 3,
   "metadata": {},
   "outputs": [],
   "source": [
    "# Save to a CSV File\n",
    "\n",
    "merged_df.to_csv('data/combined_draft_class_with_ws_FINAL.csv', index=False)"
   ]
  },
  {
   "cell_type": "code",
   "execution_count": null,
   "metadata": {},
   "outputs": [],
   "source": []
  }
 ],
 "metadata": {
  "kernelspec": {
   "display_name": "Python 3",
   "language": "python",
   "name": "python3"
  },
  "language_info": {
   "codemirror_mode": {
    "name": "ipython",
    "version": 3
   },
   "file_extension": ".py",
   "mimetype": "text/x-python",
   "name": "python",
   "nbconvert_exporter": "python",
   "pygments_lexer": "ipython3",
   "version": "3.12.4"
  }
 },
 "nbformat": 4,
 "nbformat_minor": 2
}
