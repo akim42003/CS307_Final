{
 "cells": [
  {
   "cell_type": "markdown",
   "metadata": {},
   "source": [
    "## Take Player Data and Reduce to Each Player's Best Regular Season WS Season"
   ]
  },
  {
   "cell_type": "code",
   "execution_count": 1,
   "metadata": {},
   "outputs": [],
   "source": [
    "import pandas as pd\n",
    "\n",
    "ws_df = pd.read_csv('data/all_players_win_share.csv')"
   ]
  },
  {
   "cell_type": "code",
   "execution_count": 2,
   "metadata": {},
   "outputs": [],
   "source": [
    "# Group by 'player_name' and get the row with the maximum 'WS' for each player\n",
    "best_ws_season_df = ws_df.loc[ws_df.groupby('Player')['WS'].idxmax()]"
   ]
  },
  {
   "cell_type": "code",
   "execution_count": 3,
   "metadata": {},
   "outputs": [
    {
     "name": "stdout",
     "output_type": "stream",
     "text": [
      "               Player   Season Team   WS\n",
      "3463     A.J. Hammons  2016-17  DAL  0.0\n",
      "1730       A.J. Price  2012-13  WAS  2.2\n",
      "545      Aaron Brooks  2009-10  HOU  5.5\n",
      "570      Aaron Gordon  2015-16  ORL  5.4\n",
      "2210       Aaron Gray  2011-12  TOR  1.4\n",
      "...               ...      ...  ...  ...\n",
      "3391          Zhou Qi  2018-19  HOU  0.0\n",
      "1724  Ziaire Williams  2021-22  MEM  2.2\n",
      "158   Zion Williamson  2020-21  NOP  8.7\n",
      "1731     Álex Abrines  2017-18  OKC  2.2\n",
      "544         Ömer Aşık  2012-13  HOU  5.5\n",
      "\n",
      "[796 rows x 4 columns]\n"
     ]
    }
   ],
   "source": [
    "# Reduce columns to name, season, and war\n",
    "best_ws_season_df = best_ws_season_df[['Player', 'Season', 'Team', 'WS']]\n",
    "print(best_ws_season_df)"
   ]
  },
  {
   "cell_type": "code",
   "execution_count": 4,
   "metadata": {},
   "outputs": [],
   "source": [
    "# Save to a csv file\n",
    "best_ws_season_df.to_csv('max_ws_by_player.csv', index=False)"
   ]
  },
  {
   "cell_type": "code",
   "execution_count": null,
   "metadata": {},
   "outputs": [],
   "source": []
  }
 ],
 "metadata": {
  "kernelspec": {
   "display_name": "Python 3",
   "language": "python",
   "name": "python3"
  },
  "language_info": {
   "codemirror_mode": {
    "name": "ipython",
    "version": 3
   },
   "file_extension": ".py",
   "mimetype": "text/x-python",
   "name": "python",
   "nbconvert_exporter": "python",
   "pygments_lexer": "ipython3",
   "version": "3.12.4"
  }
 },
 "nbformat": 4,
 "nbformat_minor": 2
}
